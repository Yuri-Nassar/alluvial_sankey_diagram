{
 "cells": [
  {
   "cell_type": "code",
   "execution_count": 9,
   "metadata": {},
   "outputs": [],
   "source": [
    "### Examples ###\n",
    "# 1) https://gist.github.com/praful-dodda/c98d9fd5dab6e6a9e68bf96ee73630e9\n",
    "# 2) https://chart-studio.plotly.com/~alishobeiri/1591/plotly-sankey-diagrams/#/\n",
    "# 3) https://medium.com/plotly/4-interactive-sankey-diagram-made-in-python-3057b9ee8616"
   ]
  },
  {
   "cell_type": "code",
   "execution_count": 1,
   "metadata": {},
   "outputs": [],
   "source": [
    "%matplotlib inline\n",
    "import pandas as pd\n",
    "import matplotlib.pyplot as plt\n",
    "import plotly\n",
    "# import plotly.plotly as py\n",
    "import chart_studio.plotly as py\n",
    "import plotly.graph_objects as go"
   ]
  },
  {
   "cell_type": "code",
   "execution_count": 5,
   "metadata": {},
   "outputs": [],
   "source": [
    "# df = pd.read_csv('other_data/data1_alluvial.csv',sep=';')\n",
    "df = pd.read_csv('./data/df_build_alluvial.csv',sep=';')"
   ]
  },
  {
   "cell_type": "code",
   "execution_count": 7,
   "metadata": {
    "scrolled": false
   },
   "outputs": [
    {
     "name": "stderr",
     "output_type": "stream",
     "text": [
      "C:\\ProgramData\\Anaconda3\\lib\\site-packages\\ipykernel_launcher.py:44: FutureWarning:\n",
      "\n",
      "Sorting because non-concatenation axis is not aligned. A future version\n",
      "of pandas will change to not sort by default.\n",
      "\n",
      "To accept the future behavior, pass 'sort=False'.\n",
      "\n",
      "To retain the current behavior and silence the warning, pass 'sort=True'.\n",
      "\n",
      "\n"
     ]
    },
    {
     "data": {
      "application/vnd.plotly.v1+json": {
       "config": {
        "plotlyServerURL": "https://plot.ly"
       },
       "data": [
        {
         "arrangement": "snap",
         "link": {
          "label": [
           "Cluster-15",
           "Cluster-13",
           "Cluster-22",
           "Cluster-4",
           "Cluster-10",
           "Cluster-16",
           "Cluster-20",
           "Cluster-8",
           "Cluster-3",
           "Cluster-21",
           "Cluster-18",
           "Cluster-8",
           "Cluster-1",
           "Cluster-9",
           "Cluster-15",
           "Cluster-15",
           "Cluster-6",
           "Cluster-5",
           "Cluster-2",
           "Cluster-2",
           "Cluster-5",
           "Cluster-7",
           "Cluster-1",
           "Cluster-6",
           "Cluster-6",
           "Cluster-6",
           "Cluster-7",
           "Cluster-17",
           "Cluster-11",
           "Cluster-12",
           "Cluster-14",
           "Cluster-19",
           "Cluster-19",
           "Cluster-13",
           "Cluster-22",
           "Cluster-21",
           "Cluster-9",
           "Cluster-11",
           "Cluster-12",
           "Cluster-17",
           "Cluster-14",
           "Cluster-4",
           "Cluster-10",
           "Cluster-3",
           "Cluster-8",
           "Cluster-1",
           "Cluster-2",
           "Cluster-7",
           "Cluster-10",
           "Cluster-16",
           "Cluster-20",
           "Cluster-21",
           "Cluster-13",
           "Cluster-10",
           "Cluster-20",
           "Cluster-3",
           "Cluster-21",
           "Cluster-12",
           "Cluster-17",
           "Cluster-14",
           "Cluster-4",
           "Cluster-10",
           "Cluster-1",
           "Cluster-6",
           "Cluster-5",
           "Cluster-7",
           "Cluster-9",
           "Cluster-13",
           "Cluster-22",
           "Cluster-18",
           "Cluster-15",
           "Cluster-12",
           "Cluster-17",
           "Cluster-19",
           "Cluster-4",
           "Cluster-10",
           "Cluster-3",
           "Cluster-1",
           "Cluster-2",
           "Cluster-9",
           "Cluster-11"
          ],
          "source": [
           36,
           21,
           21,
           18,
           10,
           10,
           10,
           15,
           15,
           16,
           11,
           31,
           17,
           17,
           30,
           20,
           13,
           25,
           25,
           14,
           14,
           14,
           25,
           25,
           35,
           41,
           25,
           22,
           22,
           22,
           19,
           12,
           26,
           1,
           1,
           1,
           1,
           1,
           1,
           1,
           1,
           2,
           2,
           2,
           2,
           2,
           2,
           2,
           5,
           5,
           5,
           5,
           0,
           0,
           0,
           0,
           0,
           0,
           0,
           0,
           7,
           7,
           7,
           7,
           7,
           7,
           4,
           6,
           6,
           6,
           6,
           9,
           9,
           9,
           3,
           3,
           3,
           3,
           3,
           8,
           8
          ],
          "target": [
           42,
           30,
           29,
           25,
           28,
           23,
           24,
           31,
           25,
           23,
           30,
           37,
           25,
           32,
           36,
           30,
           25,
           38,
           37,
           25,
           25,
           25,
           35,
           35,
           41,
           44,
           34,
           27,
           31,
           30,
           30,
           26,
           39,
           21,
           21,
           16,
           17,
           22,
           22,
           22,
           19,
           18,
           10,
           15,
           15,
           17,
           14,
           14,
           10,
           10,
           10,
           16,
           21,
           10,
           10,
           15,
           16,
           22,
           22,
           19,
           18,
           10,
           17,
           13,
           14,
           14,
           17,
           21,
           21,
           11,
           20,
           22,
           22,
           12,
           18,
           10,
           15,
           17,
           14,
           17,
           22
          ],
          "value": [
           15,
           42,
           26,
           19,
           37,
           30,
           17,
           15,
           36,
           19,
           17,
           15,
           22,
           34,
           15,
           15,
           17,
           19,
           15,
           15,
           19,
           19,
           22,
           17,
           17,
           17,
           19,
           23,
           20,
           22,
           17,
           16,
           16,
           16,
           7,
           3,
           10,
           1,
           13,
           4,
           16,
           1,
           11,
           19,
           15,
           19,
           5,
           8,
           22,
           30,
           16,
           15,
           1,
           1,
           1,
           1,
           1,
           3,
           3,
           1,
           3,
           1,
           1,
           17,
           19,
           11,
           2,
           25,
           19,
           17,
           15,
           6,
           16,
           16,
           15,
           2,
           16,
           2,
           10,
           22,
           19
          ]
         },
         "node": {
          "color": [
           "#1f77b4",
           "#1f77b4",
           "#1f77b4",
           "#1f77b4",
           "#1f77b4",
           "#1f77b4",
           "#1f77b4",
           "#1f77b4",
           "#1f77b4",
           "#1f77b4",
           "#aec7e8",
           "#aec7e8",
           "#aec7e8",
           "#aec7e8",
           "#aec7e8",
           "#aec7e8",
           "#aec7e8",
           "#aec7e8",
           "#aec7e8",
           "#aec7e8",
           "#aec7e8",
           "#aec7e8",
           "#aec7e8",
           "#ff7f0e",
           "#ff7f0e",
           "#ff7f0e",
           "#ff7f0e",
           "#ff7f0e",
           "#ff7f0e",
           "#ff7f0e",
           "#ff7f0e",
           "#ff7f0e",
           "#ff7f0e",
           "#ffbb78",
           "#ffbb78",
           "#ffbb78",
           "#ffbb78",
           "#ffbb78",
           "#ffbb78",
           "#ffbb78",
           "#2ca02c",
           "#2ca02c",
           "#2ca02c",
           "#98df8a",
           "#98df8a"
          ],
          "label": [
           "U-349",
           "U-185",
           "U-293",
           "U-885",
           "U-372",
           "U-315",
           "U-689",
           "U-354",
           "U-943",
           "U-730",
           "Chinese_Restaurant",
           "Gourmet_Shop",
           "Plaza",
           "IT_Services",
           "Metro_Station",
           "Deli_/_Bodega",
           "Gas_Station",
           "Home_(private)",
           "Building",
           "Park",
           "Hotel",
           "American_Restaurant",
           "Office",
           "Pizza_Place",
           "Supermarket",
           "Metro_Station",
           "Residential_Building_(Apartment_/_Condo)",
           "Bank",
           "Deli_/_Bodega",
           "Music_Venue",
           "Hotel",
           "Home_(private)",
           "Office",
           null,
           "Train",
           "Metro_Station",
           "Airport",
           "Home_(private)",
           "Fast_Food_Restaurant",
           "Office",
           null,
           "Metro_Station",
           "Gourmet_Shop",
           null,
           "Metro_Station"
          ],
          "line": {
           "color": "black",
           "width": 0.5
          },
          "pad": 15,
          "thickness": 20,
          "x": [
           0,
           0,
           0,
           0,
           0,
           0,
           0,
           0,
           0,
           0,
           0.21666666666666667,
           0.21666666666666667,
           0.21666666666666667,
           0.21666666666666667,
           0.21666666666666667,
           0.21666666666666667,
           0.21666666666666667,
           0.21666666666666667,
           0.21666666666666667,
           0.21666666666666667,
           0.21666666666666667,
           0.21666666666666667,
           0.21666666666666667,
           0.43333333333333335,
           0.43333333333333335,
           0.43333333333333335,
           0.43333333333333335,
           0.43333333333333335,
           0.43333333333333335,
           0.43333333333333335,
           0.43333333333333335,
           0.43333333333333335,
           0.43333333333333335,
           0.65,
           0.65,
           0.65,
           0.65,
           0.65,
           0.65,
           0.8666666666666667,
           0.8666666666666667,
           1.0833333333333335
          ],
          "y": [
           0.1,
           0.1,
           0.1,
           0.1,
           0.1,
           0.1,
           0.1,
           0.1,
           0.1,
           0.1,
           0.1,
           0.1,
           0.1,
           0.1,
           0.1,
           0.1,
           0.1,
           0.1,
           0.1,
           0.1,
           0.1,
           0.1,
           0.1,
           0.1,
           0.1,
           0.1,
           0.1,
           0.1,
           0.1,
           0.1,
           0.1,
           0.1,
           0.1,
           0.1,
           0.1,
           0.1,
           0.1,
           0.1,
           0.1,
           0.1,
           0.1,
           0.1
          ]
         },
         "orientation": "h",
         "type": "sankey"
        }
       ],
       "layout": {
        "font": {
         "size": 12
        },
        "height": 772,
        "template": {
         "data": {
          "bar": [
           {
            "error_x": {
             "color": "#2a3f5f"
            },
            "error_y": {
             "color": "#2a3f5f"
            },
            "marker": {
             "line": {
              "color": "#E5ECF6",
              "width": 0.5
             }
            },
            "type": "bar"
           }
          ],
          "barpolar": [
           {
            "marker": {
             "line": {
              "color": "#E5ECF6",
              "width": 0.5
             }
            },
            "type": "barpolar"
           }
          ],
          "carpet": [
           {
            "aaxis": {
             "endlinecolor": "#2a3f5f",
             "gridcolor": "white",
             "linecolor": "white",
             "minorgridcolor": "white",
             "startlinecolor": "#2a3f5f"
            },
            "baxis": {
             "endlinecolor": "#2a3f5f",
             "gridcolor": "white",
             "linecolor": "white",
             "minorgridcolor": "white",
             "startlinecolor": "#2a3f5f"
            },
            "type": "carpet"
           }
          ],
          "choropleth": [
           {
            "colorbar": {
             "outlinewidth": 0,
             "ticks": ""
            },
            "type": "choropleth"
           }
          ],
          "contour": [
           {
            "colorbar": {
             "outlinewidth": 0,
             "ticks": ""
            },
            "colorscale": [
             [
              0,
              "#0d0887"
             ],
             [
              0.1111111111111111,
              "#46039f"
             ],
             [
              0.2222222222222222,
              "#7201a8"
             ],
             [
              0.3333333333333333,
              "#9c179e"
             ],
             [
              0.4444444444444444,
              "#bd3786"
             ],
             [
              0.5555555555555556,
              "#d8576b"
             ],
             [
              0.6666666666666666,
              "#ed7953"
             ],
             [
              0.7777777777777778,
              "#fb9f3a"
             ],
             [
              0.8888888888888888,
              "#fdca26"
             ],
             [
              1,
              "#f0f921"
             ]
            ],
            "type": "contour"
           }
          ],
          "contourcarpet": [
           {
            "colorbar": {
             "outlinewidth": 0,
             "ticks": ""
            },
            "type": "contourcarpet"
           }
          ],
          "heatmap": [
           {
            "colorbar": {
             "outlinewidth": 0,
             "ticks": ""
            },
            "colorscale": [
             [
              0,
              "#0d0887"
             ],
             [
              0.1111111111111111,
              "#46039f"
             ],
             [
              0.2222222222222222,
              "#7201a8"
             ],
             [
              0.3333333333333333,
              "#9c179e"
             ],
             [
              0.4444444444444444,
              "#bd3786"
             ],
             [
              0.5555555555555556,
              "#d8576b"
             ],
             [
              0.6666666666666666,
              "#ed7953"
             ],
             [
              0.7777777777777778,
              "#fb9f3a"
             ],
             [
              0.8888888888888888,
              "#fdca26"
             ],
             [
              1,
              "#f0f921"
             ]
            ],
            "type": "heatmap"
           }
          ],
          "heatmapgl": [
           {
            "colorbar": {
             "outlinewidth": 0,
             "ticks": ""
            },
            "colorscale": [
             [
              0,
              "#0d0887"
             ],
             [
              0.1111111111111111,
              "#46039f"
             ],
             [
              0.2222222222222222,
              "#7201a8"
             ],
             [
              0.3333333333333333,
              "#9c179e"
             ],
             [
              0.4444444444444444,
              "#bd3786"
             ],
             [
              0.5555555555555556,
              "#d8576b"
             ],
             [
              0.6666666666666666,
              "#ed7953"
             ],
             [
              0.7777777777777778,
              "#fb9f3a"
             ],
             [
              0.8888888888888888,
              "#fdca26"
             ],
             [
              1,
              "#f0f921"
             ]
            ],
            "type": "heatmapgl"
           }
          ],
          "histogram": [
           {
            "marker": {
             "colorbar": {
              "outlinewidth": 0,
              "ticks": ""
             }
            },
            "type": "histogram"
           }
          ],
          "histogram2d": [
           {
            "colorbar": {
             "outlinewidth": 0,
             "ticks": ""
            },
            "colorscale": [
             [
              0,
              "#0d0887"
             ],
             [
              0.1111111111111111,
              "#46039f"
             ],
             [
              0.2222222222222222,
              "#7201a8"
             ],
             [
              0.3333333333333333,
              "#9c179e"
             ],
             [
              0.4444444444444444,
              "#bd3786"
             ],
             [
              0.5555555555555556,
              "#d8576b"
             ],
             [
              0.6666666666666666,
              "#ed7953"
             ],
             [
              0.7777777777777778,
              "#fb9f3a"
             ],
             [
              0.8888888888888888,
              "#fdca26"
             ],
             [
              1,
              "#f0f921"
             ]
            ],
            "type": "histogram2d"
           }
          ],
          "histogram2dcontour": [
           {
            "colorbar": {
             "outlinewidth": 0,
             "ticks": ""
            },
            "colorscale": [
             [
              0,
              "#0d0887"
             ],
             [
              0.1111111111111111,
              "#46039f"
             ],
             [
              0.2222222222222222,
              "#7201a8"
             ],
             [
              0.3333333333333333,
              "#9c179e"
             ],
             [
              0.4444444444444444,
              "#bd3786"
             ],
             [
              0.5555555555555556,
              "#d8576b"
             ],
             [
              0.6666666666666666,
              "#ed7953"
             ],
             [
              0.7777777777777778,
              "#fb9f3a"
             ],
             [
              0.8888888888888888,
              "#fdca26"
             ],
             [
              1,
              "#f0f921"
             ]
            ],
            "type": "histogram2dcontour"
           }
          ],
          "mesh3d": [
           {
            "colorbar": {
             "outlinewidth": 0,
             "ticks": ""
            },
            "type": "mesh3d"
           }
          ],
          "parcoords": [
           {
            "line": {
             "colorbar": {
              "outlinewidth": 0,
              "ticks": ""
             }
            },
            "type": "parcoords"
           }
          ],
          "pie": [
           {
            "automargin": true,
            "type": "pie"
           }
          ],
          "scatter": [
           {
            "marker": {
             "colorbar": {
              "outlinewidth": 0,
              "ticks": ""
             }
            },
            "type": "scatter"
           }
          ],
          "scatter3d": [
           {
            "line": {
             "colorbar": {
              "outlinewidth": 0,
              "ticks": ""
             }
            },
            "marker": {
             "colorbar": {
              "outlinewidth": 0,
              "ticks": ""
             }
            },
            "type": "scatter3d"
           }
          ],
          "scattercarpet": [
           {
            "marker": {
             "colorbar": {
              "outlinewidth": 0,
              "ticks": ""
             }
            },
            "type": "scattercarpet"
           }
          ],
          "scattergeo": [
           {
            "marker": {
             "colorbar": {
              "outlinewidth": 0,
              "ticks": ""
             }
            },
            "type": "scattergeo"
           }
          ],
          "scattergl": [
           {
            "marker": {
             "colorbar": {
              "outlinewidth": 0,
              "ticks": ""
             }
            },
            "type": "scattergl"
           }
          ],
          "scattermapbox": [
           {
            "marker": {
             "colorbar": {
              "outlinewidth": 0,
              "ticks": ""
             }
            },
            "type": "scattermapbox"
           }
          ],
          "scatterpolar": [
           {
            "marker": {
             "colorbar": {
              "outlinewidth": 0,
              "ticks": ""
             }
            },
            "type": "scatterpolar"
           }
          ],
          "scatterpolargl": [
           {
            "marker": {
             "colorbar": {
              "outlinewidth": 0,
              "ticks": ""
             }
            },
            "type": "scatterpolargl"
           }
          ],
          "scatterternary": [
           {
            "marker": {
             "colorbar": {
              "outlinewidth": 0,
              "ticks": ""
             }
            },
            "type": "scatterternary"
           }
          ],
          "surface": [
           {
            "colorbar": {
             "outlinewidth": 0,
             "ticks": ""
            },
            "colorscale": [
             [
              0,
              "#0d0887"
             ],
             [
              0.1111111111111111,
              "#46039f"
             ],
             [
              0.2222222222222222,
              "#7201a8"
             ],
             [
              0.3333333333333333,
              "#9c179e"
             ],
             [
              0.4444444444444444,
              "#bd3786"
             ],
             [
              0.5555555555555556,
              "#d8576b"
             ],
             [
              0.6666666666666666,
              "#ed7953"
             ],
             [
              0.7777777777777778,
              "#fb9f3a"
             ],
             [
              0.8888888888888888,
              "#fdca26"
             ],
             [
              1,
              "#f0f921"
             ]
            ],
            "type": "surface"
           }
          ],
          "table": [
           {
            "cells": {
             "fill": {
              "color": "#EBF0F8"
             },
             "line": {
              "color": "white"
             }
            },
            "header": {
             "fill": {
              "color": "#C8D4E3"
             },
             "line": {
              "color": "white"
             }
            },
            "type": "table"
           }
          ]
         },
         "layout": {
          "annotationdefaults": {
           "arrowcolor": "#2a3f5f",
           "arrowhead": 0,
           "arrowwidth": 1
          },
          "coloraxis": {
           "colorbar": {
            "outlinewidth": 0,
            "ticks": ""
           }
          },
          "colorscale": {
           "diverging": [
            [
             0,
             "#8e0152"
            ],
            [
             0.1,
             "#c51b7d"
            ],
            [
             0.2,
             "#de77ae"
            ],
            [
             0.3,
             "#f1b6da"
            ],
            [
             0.4,
             "#fde0ef"
            ],
            [
             0.5,
             "#f7f7f7"
            ],
            [
             0.6,
             "#e6f5d0"
            ],
            [
             0.7,
             "#b8e186"
            ],
            [
             0.8,
             "#7fbc41"
            ],
            [
             0.9,
             "#4d9221"
            ],
            [
             1,
             "#276419"
            ]
           ],
           "sequential": [
            [
             0,
             "#0d0887"
            ],
            [
             0.1111111111111111,
             "#46039f"
            ],
            [
             0.2222222222222222,
             "#7201a8"
            ],
            [
             0.3333333333333333,
             "#9c179e"
            ],
            [
             0.4444444444444444,
             "#bd3786"
            ],
            [
             0.5555555555555556,
             "#d8576b"
            ],
            [
             0.6666666666666666,
             "#ed7953"
            ],
            [
             0.7777777777777778,
             "#fb9f3a"
            ],
            [
             0.8888888888888888,
             "#fdca26"
            ],
            [
             1,
             "#f0f921"
            ]
           ],
           "sequentialminus": [
            [
             0,
             "#0d0887"
            ],
            [
             0.1111111111111111,
             "#46039f"
            ],
            [
             0.2222222222222222,
             "#7201a8"
            ],
            [
             0.3333333333333333,
             "#9c179e"
            ],
            [
             0.4444444444444444,
             "#bd3786"
            ],
            [
             0.5555555555555556,
             "#d8576b"
            ],
            [
             0.6666666666666666,
             "#ed7953"
            ],
            [
             0.7777777777777778,
             "#fb9f3a"
            ],
            [
             0.8888888888888888,
             "#fdca26"
            ],
            [
             1,
             "#f0f921"
            ]
           ]
          },
          "colorway": [
           "#636efa",
           "#EF553B",
           "#00cc96",
           "#ab63fa",
           "#FFA15A",
           "#19d3f3",
           "#FF6692",
           "#B6E880",
           "#FF97FF",
           "#FECB52"
          ],
          "font": {
           "color": "#2a3f5f"
          },
          "geo": {
           "bgcolor": "white",
           "lakecolor": "white",
           "landcolor": "#E5ECF6",
           "showlakes": true,
           "showland": true,
           "subunitcolor": "white"
          },
          "hoverlabel": {
           "align": "left"
          },
          "hovermode": "closest",
          "mapbox": {
           "style": "light"
          },
          "paper_bgcolor": "white",
          "plot_bgcolor": "#E5ECF6",
          "polar": {
           "angularaxis": {
            "gridcolor": "white",
            "linecolor": "white",
            "ticks": ""
           },
           "bgcolor": "#E5ECF6",
           "radialaxis": {
            "gridcolor": "white",
            "linecolor": "white",
            "ticks": ""
           }
          },
          "scene": {
           "xaxis": {
            "backgroundcolor": "#E5ECF6",
            "gridcolor": "white",
            "gridwidth": 2,
            "linecolor": "white",
            "showbackground": true,
            "ticks": "",
            "zerolinecolor": "white"
           },
           "yaxis": {
            "backgroundcolor": "#E5ECF6",
            "gridcolor": "white",
            "gridwidth": 2,
            "linecolor": "white",
            "showbackground": true,
            "ticks": "",
            "zerolinecolor": "white"
           },
           "zaxis": {
            "backgroundcolor": "#E5ECF6",
            "gridcolor": "white",
            "gridwidth": 2,
            "linecolor": "white",
            "showbackground": true,
            "ticks": "",
            "zerolinecolor": "white"
           }
          },
          "shapedefaults": {
           "line": {
            "color": "#2a3f5f"
           }
          },
          "ternary": {
           "aaxis": {
            "gridcolor": "white",
            "linecolor": "white",
            "ticks": ""
           },
           "baxis": {
            "gridcolor": "white",
            "linecolor": "white",
            "ticks": ""
           },
           "bgcolor": "#E5ECF6",
           "caxis": {
            "gridcolor": "white",
            "linecolor": "white",
            "ticks": ""
           }
          },
          "title": {
           "x": 0.05
          },
          "xaxis": {
           "automargin": true,
           "gridcolor": "white",
           "linecolor": "white",
           "ticks": "",
           "title": {
            "standoff": 15
           },
           "zerolinecolor": "white",
           "zerolinewidth": 2
          },
          "yaxis": {
           "automargin": true,
           "gridcolor": "white",
           "linecolor": "white",
           "ticks": "",
           "title": {
            "standoff": 15
           },
           "zerolinecolor": "white",
           "zerolinewidth": 2
          }
         }
        },
        "title": {
         "text": "SS-OCoClus result"
        },
        "width": 950
       }
      },
      "text/html": [
       "<div>                            <div id=\"4663c45e-c0bb-4da7-a329-087cf9e9c90f\" class=\"plotly-graph-div\" style=\"height:772px; width:950px;\"></div>            <script type=\"text/javascript\">                require([\"plotly\"], function(Plotly) {                    window.PLOTLYENV=window.PLOTLYENV || {};                                    if (document.getElementById(\"4663c45e-c0bb-4da7-a329-087cf9e9c90f\")) {                    Plotly.newPlot(                        \"4663c45e-c0bb-4da7-a329-087cf9e9c90f\",                        [{\"arrangement\": \"snap\", \"link\": {\"label\": [\"Cluster-15\", \"Cluster-13\", \"Cluster-22\", \"Cluster-4\", \"Cluster-10\", \"Cluster-16\", \"Cluster-20\", \"Cluster-8\", \"Cluster-3\", \"Cluster-21\", \"Cluster-18\", \"Cluster-8\", \"Cluster-1\", \"Cluster-9\", \"Cluster-15\", \"Cluster-15\", \"Cluster-6\", \"Cluster-5\", \"Cluster-2\", \"Cluster-2\", \"Cluster-5\", \"Cluster-7\", \"Cluster-1\", \"Cluster-6\", \"Cluster-6\", \"Cluster-6\", \"Cluster-7\", \"Cluster-17\", \"Cluster-11\", \"Cluster-12\", \"Cluster-14\", \"Cluster-19\", \"Cluster-19\", \"Cluster-13\", \"Cluster-22\", \"Cluster-21\", \"Cluster-9\", \"Cluster-11\", \"Cluster-12\", \"Cluster-17\", \"Cluster-14\", \"Cluster-4\", \"Cluster-10\", \"Cluster-3\", \"Cluster-8\", \"Cluster-1\", \"Cluster-2\", \"Cluster-7\", \"Cluster-10\", \"Cluster-16\", \"Cluster-20\", \"Cluster-21\", \"Cluster-13\", \"Cluster-10\", \"Cluster-20\", \"Cluster-3\", \"Cluster-21\", \"Cluster-12\", \"Cluster-17\", \"Cluster-14\", \"Cluster-4\", \"Cluster-10\", \"Cluster-1\", \"Cluster-6\", \"Cluster-5\", \"Cluster-7\", \"Cluster-9\", \"Cluster-13\", \"Cluster-22\", \"Cluster-18\", \"Cluster-15\", \"Cluster-12\", \"Cluster-17\", \"Cluster-19\", \"Cluster-4\", \"Cluster-10\", \"Cluster-3\", \"Cluster-1\", \"Cluster-2\", \"Cluster-9\", \"Cluster-11\"], \"source\": [36, 21, 21, 18, 10, 10, 10, 15, 15, 16, 11, 31, 17, 17, 30, 20, 13, 25, 25, 14, 14, 14, 25, 25, 35, 41, 25, 22, 22, 22, 19, 12, 26, 1, 1, 1, 1, 1, 1, 1, 1, 2, 2, 2, 2, 2, 2, 2, 5, 5, 5, 5, 0, 0, 0, 0, 0, 0, 0, 0, 7, 7, 7, 7, 7, 7, 4, 6, 6, 6, 6, 9, 9, 9, 3, 3, 3, 3, 3, 8, 8], \"target\": [42, 30, 29, 25, 28, 23, 24, 31, 25, 23, 30, 37, 25, 32, 36, 30, 25, 38, 37, 25, 25, 25, 35, 35, 41, 44, 34, 27, 31, 30, 30, 26, 39, 21, 21, 16, 17, 22, 22, 22, 19, 18, 10, 15, 15, 17, 14, 14, 10, 10, 10, 16, 21, 10, 10, 15, 16, 22, 22, 19, 18, 10, 17, 13, 14, 14, 17, 21, 21, 11, 20, 22, 22, 12, 18, 10, 15, 17, 14, 17, 22], \"value\": [15, 42, 26, 19, 37, 30, 17, 15, 36, 19, 17, 15, 22, 34, 15, 15, 17, 19, 15, 15, 19, 19, 22, 17, 17, 17, 19, 23, 20, 22, 17, 16, 16, 16, 7, 3, 10, 1, 13, 4, 16, 1, 11, 19, 15, 19, 5, 8, 22, 30, 16, 15, 1, 1, 1, 1, 1, 3, 3, 1, 3, 1, 1, 17, 19, 11, 2, 25, 19, 17, 15, 6, 16, 16, 15, 2, 16, 2, 10, 22, 19]}, \"node\": {\"color\": [\"#1f77b4\", \"#1f77b4\", \"#1f77b4\", \"#1f77b4\", \"#1f77b4\", \"#1f77b4\", \"#1f77b4\", \"#1f77b4\", \"#1f77b4\", \"#1f77b4\", \"#aec7e8\", \"#aec7e8\", \"#aec7e8\", \"#aec7e8\", \"#aec7e8\", \"#aec7e8\", \"#aec7e8\", \"#aec7e8\", \"#aec7e8\", \"#aec7e8\", \"#aec7e8\", \"#aec7e8\", \"#aec7e8\", \"#ff7f0e\", \"#ff7f0e\", \"#ff7f0e\", \"#ff7f0e\", \"#ff7f0e\", \"#ff7f0e\", \"#ff7f0e\", \"#ff7f0e\", \"#ff7f0e\", \"#ff7f0e\", \"#ffbb78\", \"#ffbb78\", \"#ffbb78\", \"#ffbb78\", \"#ffbb78\", \"#ffbb78\", \"#ffbb78\", \"#2ca02c\", \"#2ca02c\", \"#2ca02c\", \"#98df8a\", \"#98df8a\"], \"label\": [\"U-349\", \"U-185\", \"U-293\", \"U-885\", \"U-372\", \"U-315\", \"U-689\", \"U-354\", \"U-943\", \"U-730\", \"Chinese_Restaurant\", \"Gourmet_Shop\", \"Plaza\", \"IT_Services\", \"Metro_Station\", \"Deli_/_Bodega\", \"Gas_Station\", \"Home_(private)\", \"Building\", \"Park\", \"Hotel\", \"American_Restaurant\", \"Office\", \"Pizza_Place\", \"Supermarket\", \"Metro_Station\", \"Residential_Building_(Apartment_/_Condo)\", \"Bank\", \"Deli_/_Bodega\", \"Music_Venue\", \"Hotel\", \"Home_(private)\", \"Office\", null, \"Train\", \"Metro_Station\", \"Airport\", \"Home_(private)\", \"Fast_Food_Restaurant\", \"Office\", null, \"Metro_Station\", \"Gourmet_Shop\", null, \"Metro_Station\"], \"line\": {\"color\": \"black\", \"width\": 0.5}, \"pad\": 15, \"thickness\": 20, \"x\": [0, 0, 0, 0, 0, 0, 0, 0, 0, 0, 0.21666666666666667, 0.21666666666666667, 0.21666666666666667, 0.21666666666666667, 0.21666666666666667, 0.21666666666666667, 0.21666666666666667, 0.21666666666666667, 0.21666666666666667, 0.21666666666666667, 0.21666666666666667, 0.21666666666666667, 0.21666666666666667, 0.43333333333333335, 0.43333333333333335, 0.43333333333333335, 0.43333333333333335, 0.43333333333333335, 0.43333333333333335, 0.43333333333333335, 0.43333333333333335, 0.43333333333333335, 0.43333333333333335, 0.65, 0.65, 0.65, 0.65, 0.65, 0.65, 0.8666666666666667, 0.8666666666666667, 1.0833333333333335], \"y\": [0.1, 0.1, 0.1, 0.1, 0.1, 0.1, 0.1, 0.1, 0.1, 0.1, 0.1, 0.1, 0.1, 0.1, 0.1, 0.1, 0.1, 0.1, 0.1, 0.1, 0.1, 0.1, 0.1, 0.1, 0.1, 0.1, 0.1, 0.1, 0.1, 0.1, 0.1, 0.1, 0.1, 0.1, 0.1, 0.1, 0.1, 0.1, 0.1, 0.1, 0.1, 0.1]}, \"orientation\": \"h\", \"type\": \"sankey\"}],                        {\"font\": {\"size\": 12}, \"height\": 772, \"template\": {\"data\": {\"bar\": [{\"error_x\": {\"color\": \"#2a3f5f\"}, \"error_y\": {\"color\": \"#2a3f5f\"}, \"marker\": {\"line\": {\"color\": \"#E5ECF6\", \"width\": 0.5}}, \"type\": \"bar\"}], \"barpolar\": [{\"marker\": {\"line\": {\"color\": \"#E5ECF6\", \"width\": 0.5}}, \"type\": \"barpolar\"}], \"carpet\": [{\"aaxis\": {\"endlinecolor\": \"#2a3f5f\", \"gridcolor\": \"white\", \"linecolor\": \"white\", \"minorgridcolor\": \"white\", \"startlinecolor\": \"#2a3f5f\"}, \"baxis\": {\"endlinecolor\": \"#2a3f5f\", \"gridcolor\": \"white\", \"linecolor\": \"white\", \"minorgridcolor\": \"white\", \"startlinecolor\": \"#2a3f5f\"}, \"type\": \"carpet\"}], \"choropleth\": [{\"colorbar\": {\"outlinewidth\": 0, \"ticks\": \"\"}, \"type\": \"choropleth\"}], \"contour\": [{\"colorbar\": {\"outlinewidth\": 0, \"ticks\": \"\"}, \"colorscale\": [[0.0, \"#0d0887\"], [0.1111111111111111, \"#46039f\"], [0.2222222222222222, \"#7201a8\"], [0.3333333333333333, \"#9c179e\"], [0.4444444444444444, \"#bd3786\"], [0.5555555555555556, \"#d8576b\"], [0.6666666666666666, \"#ed7953\"], [0.7777777777777778, \"#fb9f3a\"], [0.8888888888888888, \"#fdca26\"], [1.0, \"#f0f921\"]], \"type\": \"contour\"}], \"contourcarpet\": [{\"colorbar\": {\"outlinewidth\": 0, \"ticks\": \"\"}, \"type\": \"contourcarpet\"}], \"heatmap\": [{\"colorbar\": {\"outlinewidth\": 0, \"ticks\": \"\"}, \"colorscale\": [[0.0, \"#0d0887\"], [0.1111111111111111, \"#46039f\"], [0.2222222222222222, \"#7201a8\"], [0.3333333333333333, \"#9c179e\"], [0.4444444444444444, \"#bd3786\"], [0.5555555555555556, \"#d8576b\"], [0.6666666666666666, \"#ed7953\"], [0.7777777777777778, \"#fb9f3a\"], [0.8888888888888888, \"#fdca26\"], [1.0, \"#f0f921\"]], \"type\": \"heatmap\"}], \"heatmapgl\": [{\"colorbar\": {\"outlinewidth\": 0, \"ticks\": \"\"}, \"colorscale\": [[0.0, \"#0d0887\"], [0.1111111111111111, \"#46039f\"], [0.2222222222222222, \"#7201a8\"], [0.3333333333333333, \"#9c179e\"], [0.4444444444444444, \"#bd3786\"], [0.5555555555555556, \"#d8576b\"], [0.6666666666666666, \"#ed7953\"], [0.7777777777777778, \"#fb9f3a\"], [0.8888888888888888, \"#fdca26\"], [1.0, \"#f0f921\"]], \"type\": \"heatmapgl\"}], \"histogram\": [{\"marker\": {\"colorbar\": {\"outlinewidth\": 0, \"ticks\": \"\"}}, \"type\": \"histogram\"}], \"histogram2d\": [{\"colorbar\": {\"outlinewidth\": 0, \"ticks\": \"\"}, \"colorscale\": [[0.0, \"#0d0887\"], [0.1111111111111111, \"#46039f\"], [0.2222222222222222, \"#7201a8\"], [0.3333333333333333, \"#9c179e\"], [0.4444444444444444, \"#bd3786\"], [0.5555555555555556, \"#d8576b\"], [0.6666666666666666, \"#ed7953\"], [0.7777777777777778, \"#fb9f3a\"], [0.8888888888888888, \"#fdca26\"], [1.0, \"#f0f921\"]], \"type\": \"histogram2d\"}], \"histogram2dcontour\": [{\"colorbar\": {\"outlinewidth\": 0, \"ticks\": \"\"}, \"colorscale\": [[0.0, \"#0d0887\"], [0.1111111111111111, \"#46039f\"], [0.2222222222222222, \"#7201a8\"], [0.3333333333333333, \"#9c179e\"], [0.4444444444444444, \"#bd3786\"], [0.5555555555555556, \"#d8576b\"], [0.6666666666666666, \"#ed7953\"], [0.7777777777777778, \"#fb9f3a\"], [0.8888888888888888, \"#fdca26\"], [1.0, \"#f0f921\"]], \"type\": \"histogram2dcontour\"}], \"mesh3d\": [{\"colorbar\": {\"outlinewidth\": 0, \"ticks\": \"\"}, \"type\": \"mesh3d\"}], \"parcoords\": [{\"line\": {\"colorbar\": {\"outlinewidth\": 0, \"ticks\": \"\"}}, \"type\": \"parcoords\"}], \"pie\": [{\"automargin\": true, \"type\": \"pie\"}], \"scatter\": [{\"marker\": {\"colorbar\": {\"outlinewidth\": 0, \"ticks\": \"\"}}, \"type\": \"scatter\"}], \"scatter3d\": [{\"line\": {\"colorbar\": {\"outlinewidth\": 0, \"ticks\": \"\"}}, \"marker\": {\"colorbar\": {\"outlinewidth\": 0, \"ticks\": \"\"}}, \"type\": \"scatter3d\"}], \"scattercarpet\": [{\"marker\": {\"colorbar\": {\"outlinewidth\": 0, \"ticks\": \"\"}}, \"type\": \"scattercarpet\"}], \"scattergeo\": [{\"marker\": {\"colorbar\": {\"outlinewidth\": 0, \"ticks\": \"\"}}, \"type\": \"scattergeo\"}], \"scattergl\": [{\"marker\": {\"colorbar\": {\"outlinewidth\": 0, \"ticks\": \"\"}}, \"type\": \"scattergl\"}], \"scattermapbox\": [{\"marker\": {\"colorbar\": {\"outlinewidth\": 0, \"ticks\": \"\"}}, \"type\": \"scattermapbox\"}], \"scatterpolar\": [{\"marker\": {\"colorbar\": {\"outlinewidth\": 0, \"ticks\": \"\"}}, \"type\": \"scatterpolar\"}], \"scatterpolargl\": [{\"marker\": {\"colorbar\": {\"outlinewidth\": 0, \"ticks\": \"\"}}, \"type\": \"scatterpolargl\"}], \"scatterternary\": [{\"marker\": {\"colorbar\": {\"outlinewidth\": 0, \"ticks\": \"\"}}, \"type\": \"scatterternary\"}], \"surface\": [{\"colorbar\": {\"outlinewidth\": 0, \"ticks\": \"\"}, \"colorscale\": [[0.0, \"#0d0887\"], [0.1111111111111111, \"#46039f\"], [0.2222222222222222, \"#7201a8\"], [0.3333333333333333, \"#9c179e\"], [0.4444444444444444, \"#bd3786\"], [0.5555555555555556, \"#d8576b\"], [0.6666666666666666, \"#ed7953\"], [0.7777777777777778, \"#fb9f3a\"], [0.8888888888888888, \"#fdca26\"], [1.0, \"#f0f921\"]], \"type\": \"surface\"}], \"table\": [{\"cells\": {\"fill\": {\"color\": \"#EBF0F8\"}, \"line\": {\"color\": \"white\"}}, \"header\": {\"fill\": {\"color\": \"#C8D4E3\"}, \"line\": {\"color\": \"white\"}}, \"type\": \"table\"}]}, \"layout\": {\"annotationdefaults\": {\"arrowcolor\": \"#2a3f5f\", \"arrowhead\": 0, \"arrowwidth\": 1}, \"coloraxis\": {\"colorbar\": {\"outlinewidth\": 0, \"ticks\": \"\"}}, \"colorscale\": {\"diverging\": [[0, \"#8e0152\"], [0.1, \"#c51b7d\"], [0.2, \"#de77ae\"], [0.3, \"#f1b6da\"], [0.4, \"#fde0ef\"], [0.5, \"#f7f7f7\"], [0.6, \"#e6f5d0\"], [0.7, \"#b8e186\"], [0.8, \"#7fbc41\"], [0.9, \"#4d9221\"], [1, \"#276419\"]], \"sequential\": [[0.0, \"#0d0887\"], [0.1111111111111111, \"#46039f\"], [0.2222222222222222, \"#7201a8\"], [0.3333333333333333, \"#9c179e\"], [0.4444444444444444, \"#bd3786\"], [0.5555555555555556, \"#d8576b\"], [0.6666666666666666, \"#ed7953\"], [0.7777777777777778, \"#fb9f3a\"], [0.8888888888888888, \"#fdca26\"], [1.0, \"#f0f921\"]], \"sequentialminus\": [[0.0, \"#0d0887\"], [0.1111111111111111, \"#46039f\"], [0.2222222222222222, \"#7201a8\"], [0.3333333333333333, \"#9c179e\"], [0.4444444444444444, \"#bd3786\"], [0.5555555555555556, \"#d8576b\"], [0.6666666666666666, \"#ed7953\"], [0.7777777777777778, \"#fb9f3a\"], [0.8888888888888888, \"#fdca26\"], [1.0, \"#f0f921\"]]}, \"colorway\": [\"#636efa\", \"#EF553B\", \"#00cc96\", \"#ab63fa\", \"#FFA15A\", \"#19d3f3\", \"#FF6692\", \"#B6E880\", \"#FF97FF\", \"#FECB52\"], \"font\": {\"color\": \"#2a3f5f\"}, \"geo\": {\"bgcolor\": \"white\", \"lakecolor\": \"white\", \"landcolor\": \"#E5ECF6\", \"showlakes\": true, \"showland\": true, \"subunitcolor\": \"white\"}, \"hoverlabel\": {\"align\": \"left\"}, \"hovermode\": \"closest\", \"mapbox\": {\"style\": \"light\"}, \"paper_bgcolor\": \"white\", \"plot_bgcolor\": \"#E5ECF6\", \"polar\": {\"angularaxis\": {\"gridcolor\": \"white\", \"linecolor\": \"white\", \"ticks\": \"\"}, \"bgcolor\": \"#E5ECF6\", \"radialaxis\": {\"gridcolor\": \"white\", \"linecolor\": \"white\", \"ticks\": \"\"}}, \"scene\": {\"xaxis\": {\"backgroundcolor\": \"#E5ECF6\", \"gridcolor\": \"white\", \"gridwidth\": 2, \"linecolor\": \"white\", \"showbackground\": true, \"ticks\": \"\", \"zerolinecolor\": \"white\"}, \"yaxis\": {\"backgroundcolor\": \"#E5ECF6\", \"gridcolor\": \"white\", \"gridwidth\": 2, \"linecolor\": \"white\", \"showbackground\": true, \"ticks\": \"\", \"zerolinecolor\": \"white\"}, \"zaxis\": {\"backgroundcolor\": \"#E5ECF6\", \"gridcolor\": \"white\", \"gridwidth\": 2, \"linecolor\": \"white\", \"showbackground\": true, \"ticks\": \"\", \"zerolinecolor\": \"white\"}}, \"shapedefaults\": {\"line\": {\"color\": \"#2a3f5f\"}}, \"ternary\": {\"aaxis\": {\"gridcolor\": \"white\", \"linecolor\": \"white\", \"ticks\": \"\"}, \"baxis\": {\"gridcolor\": \"white\", \"linecolor\": \"white\", \"ticks\": \"\"}, \"bgcolor\": \"#E5ECF6\", \"caxis\": {\"gridcolor\": \"white\", \"linecolor\": \"white\", \"ticks\": \"\"}}, \"title\": {\"x\": 0.05}, \"xaxis\": {\"automargin\": true, \"gridcolor\": \"white\", \"linecolor\": \"white\", \"ticks\": \"\", \"title\": {\"standoff\": 15}, \"zerolinecolor\": \"white\", \"zerolinewidth\": 2}, \"yaxis\": {\"automargin\": true, \"gridcolor\": \"white\", \"linecolor\": \"white\", \"ticks\": \"\", \"title\": {\"standoff\": 15}, \"zerolinecolor\": \"white\", \"zerolinewidth\": 2}}}, \"title\": {\"text\": \"SS-OCoClus result\"}, \"width\": 950},                        {\"responsive\": true}                    ).then(function(){\n",
       "                            \n",
       "var gd = document.getElementById('4663c45e-c0bb-4da7-a329-087cf9e9c90f');\n",
       "var x = new MutationObserver(function (mutations, observer) {{\n",
       "        var display = window.getComputedStyle(gd).display;\n",
       "        if (!display || display === 'none') {{\n",
       "            console.log([gd, 'removed!']);\n",
       "            Plotly.purge(gd);\n",
       "            observer.disconnect();\n",
       "        }}\n",
       "}});\n",
       "\n",
       "// Listen for the removal of the full notebook cells\n",
       "var notebookContainer = gd.closest('#notebook-container');\n",
       "if (notebookContainer) {{\n",
       "    x.observe(notebookContainer, {childList: true});\n",
       "}}\n",
       "\n",
       "// Listen for the clearing of the current output cell\n",
       "var outputEl = gd.closest('.output');\n",
       "if (outputEl) {{\n",
       "    x.observe(outputEl, {childList: true});\n",
       "}}\n",
       "\n",
       "                        })                };                });            </script>        </div>"
      ]
     },
     "metadata": {},
     "output_type": "display_data"
    }
   ],
   "source": [
    "# fig = genSankey(df,cat_cols=['lvl3','lvl4','lvl5','lvl6','lvl7'],value_cols='count',title='Word Etymology')\n",
    "fig = genSankey_2(df,cat_cols=['lvl1','lvl3','lvl4','lvl5','lvl6','lvl7'],value_cols='count',title='SS-OCoClus result')\n",
    "# plotly.offline.plot(fig, validate=False)\n",
    "# py.iplot(fig, validate=False)\n",
    "# fig.update_layout(title_text=\"Basic Sankey Diagram\", font_size=12)\n",
    "# dpi=600\n",
    "# board = plt.figure(figsize=(3, 2),dpi=dpi)\n",
    "# fig.update_layout(font_size=12)\n",
    "fig.show()"
   ]
  },
  {
   "cell_type": "code",
   "execution_count": 4,
   "metadata": {},
   "outputs": [],
   "source": [
    "def genSankey(df,cat_cols=[],value_cols='',title='Sankey Diagram'):\n",
    "    # Source: https://medium.com/kenlok/how-to-create-sankey-diagrams-from-dataframes-in-python-e221c1b4d6b0\n",
    "    # maximum of 6 value cols -> 6 colors\n",
    "#     colorPalette = ['#4B8BBE','#306998','#FFE873','#FFD43B','#646464']\n",
    "    colorPalette = ['#1f77b4', '#aec7e8', '#ff7f0e', '#ffbb78', '#2ca02c', '#98df8a', '#d62728', '#ff9896',\n",
    "                    '#9467bd', '#c5b0d5', '#8c564b', '#c49c94', '#e377c2', '#f7b6d2', '#7f7f7f', '#c7c7c7',\n",
    "                    '#bcbd22', '#dbdb8d','#17becf', '#9edae5']\n",
    "    labelList = []\n",
    "    colorNumList = []\n",
    "    for catCol in cat_cols:\n",
    "        labelListTemp =  list(set(df[catCol].values))\n",
    "        colorNumList.append(len(labelListTemp))\n",
    "        labelList = labelList + labelListTemp\n",
    "        \n",
    "    # remove duplicates from labelList\n",
    "    labelList = list(dict.fromkeys(labelList))\n",
    "    \n",
    "    # define colors based on number of levels\n",
    "    colorList = []\n",
    "    for idx, colorNum in enumerate(colorNumList):\n",
    "        colorList = colorList + [colorPalette[idx]]*colorNum\n",
    "        \n",
    "    # transform df into a source-target pair\n",
    "    for i in range(len(cat_cols)-1):\n",
    "        if i==0:\n",
    "            sourceTargetDf = df[[cat_cols[i],cat_cols[i+1],value_cols]]\n",
    "            sourceTargetDf.columns = ['source','target','count']\n",
    "        else:\n",
    "            tempDf = df[[cat_cols[i],cat_cols[i+1],value_cols]]\n",
    "            tempDf.columns = ['source','target','count']\n",
    "            sourceTargetDf = pd.concat([sourceTargetDf,tempDf])\n",
    "        sourceTargetDf = sourceTargetDf.groupby(['source','target']).agg({'count':'sum'}).reset_index()\n",
    "        \n",
    "    # add index for source-target pair\n",
    "    sourceTargetDf['sourceID'] = sourceTargetDf['source'].apply(lambda x: labelList.index(x))\n",
    "    sourceTargetDf['targetID'] = sourceTargetDf['target'].apply(lambda x: labelList.index(x))\n",
    "    \n",
    "    # creating the sankey diagram\n",
    "    data = dict(\n",
    "        type='sankey',\n",
    "        node = dict(\n",
    "          pad = 15,\n",
    "          thickness = 20,\n",
    "          line = dict(\n",
    "            color = \"black\",\n",
    "            width = 0.5\n",
    "          ),\n",
    "          label = labelList,\n",
    "          color = colorList\n",
    "        ),\n",
    "        link = dict(\n",
    "          source = sourceTargetDf['sourceID'],\n",
    "          target = sourceTargetDf['targetID'],\n",
    "          value = sourceTargetDf['count']\n",
    "        )\n",
    "      )\n",
    "    \n",
    "    layout =  dict(\n",
    "        title = title,\n",
    "        font = dict(\n",
    "          size = 10\n",
    "        )\n",
    "    )\n",
    "    \n",
    "#     fig = go.Figure(data = [go.Sankey(data,layout)])\n",
    "    fig = go.Figure(data = [go.Sankey(data)])\n",
    "#     fig = dict(data=[data], layout=layout)\n",
    "    return fig"
   ]
  },
  {
   "cell_type": "code",
   "execution_count": 3,
   "metadata": {},
   "outputs": [],
   "source": [
    "def genSankey_2(df,cat_cols=[],value_cols='',title='Sankey Diagram'):\n",
    "    # Source: https://gist.github.com/praful-dodda/c98d9fd5dab6e6a9e68bf96ee73630e9\n",
    "    # maximum of 6 value cols -> 6 colors\n",
    "#     colorPalette = ['#4B8BBE','#306998','#FFE873','#FFD43B','#646464']\n",
    "    colorPalette = ['#1f77b4', '#aec7e8', '#ff7f0e', '#ffbb78', '#2ca02c', '#98df8a', '#d62728', '#ff9896',\n",
    "                    '#9467bd', '#c5b0d5', '#8c564b', '#c49c94', '#e377c2', '#f7b6d2', '#7f7f7f', '#c7c7c7',\n",
    "                    '#bcbd22', '#dbdb8d','#17becf', '#9edae5']\n",
    "    colorNumList = []\n",
    "    specials = [\". \",\"> \",\">> \",\".. \",\"- \"]\n",
    "    labelList = []\n",
    "    lableDict = {}\n",
    "    for i,catCol in enumerate(cat_cols):\n",
    "        n = len(labelList)\n",
    "        labelListTemp =  list(enumerate(set(df[catCol].values),start=n))\n",
    "        colorNumList.append(len(labelListTemp))\n",
    "        labelList = labelList + labelListTemp\n",
    "        lableDict[catCol] = dict(labelListTemp)\n",
    "\n",
    "    # remove duplicates from labelList\n",
    "    labelList = list(dict.fromkeys(labelList))\n",
    "    # revese the dict \n",
    "    rDict = {}\n",
    "    for k,v in lableDict.items():\n",
    "        rDict[k] = {str(v) : k for k,v in v.items()}\n",
    "    \n",
    "    # define colors based on number of levels\n",
    "    colorList = []\n",
    "    for idx, colorNum in enumerate(colorNumList):\n",
    "        colorList = colorList + [colorPalette[idx]]*colorNum\n",
    "        \n",
    "    # transform df into a source-target pair\n",
    "    sourceTargetDf = pd.DataFrame()\n",
    "    for i in range(len(cat_cols)-1):\n",
    "  \n",
    "            tempDf = df[[cat_cols[i],cat_cols[i+1],value_cols]].copy()\n",
    "            tempDf[cat_cols[i]] =  tempDf[cat_cols[i]].astype(str)\n",
    "            tempDf[cat_cols[i+1]] =  tempDf[cat_cols[i+1]].astype(str)\n",
    "#             tempDf['s'],tempDf['d'] = cat_cols[i],cat_cols[i+1]\n",
    "            tempDf['s'],tempDf['t'] = cat_cols[i],cat_cols[i+1]\n",
    "            tempDf.columns = ['source','target','count','s','t']\n",
    "#             tempDf['label'] = df['label']\n",
    "#             tempDf['label'] = df['lvl3']\n",
    "            tempDf['label'] = df['cluster']\n",
    "            sourceTargetDf = pd.concat([sourceTargetDf,tempDf])\n",
    "#             sourceTargetDf = sourceTargetDf.groupby(['source','target','s','t','label']).agg({'count':'sum'}).reset_index()\n",
    "            sourceTargetDf = sourceTargetDf.groupby(['source','target','s','t','label']).agg({'count':'sum'}).reset_index()\n",
    "        \n",
    "    # add index for source-target pair\n",
    "#     sourceTargetDf['sourceID'] = sourceTargetDf['source'].apply(lambda x: labelList.index(x))\n",
    "#     sourceTargetDf['targetID'] = sourceTargetDf['target'].apply(lambda x: labelList.index(x))\n",
    "    tempDf = tempDf[(tempDf['source']!='nan') & (tempDf['target']!='nan')]\n",
    "#     display(tempDf)\n",
    "#     display(rDict)\n",
    "    reset_level = 0\n",
    "    \n",
    "    ### Combining codes for placing elements at their corresponding vertical axis.\n",
    "    unique_list = []\n",
    "    for k,v in rDict.items():\n",
    "#         print(k,reset_level)\n",
    "        v_keys = [x+'_'+str(reset_level) for x in list(v.keys())]\n",
    "        reset_level += 1\n",
    "        if v_keys[0][:3] == 'nan':\n",
    "            v_keys.pop(0)        \n",
    "#         print(v_keys)\n",
    "        [unique_list.append(x) for x in v_keys]\n",
    "#     print(unique_list)\n",
    "    nodified = nodify(unique_list)\n",
    "    \n",
    "#     display(sourceTargetDf)\n",
    "    sourceTargetDf = sourceTargetDf[(sourceTargetDf['source']!='nan') & (sourceTargetDf['target']!='nan')]\n",
    "    sourceTargetDf['sourceID'] = sourceTargetDf.apply(lambda x: rDict[x['s']][x['source']],axis=1)\n",
    "    sourceTargetDf['targetID'] = sourceTargetDf.apply(lambda x: rDict[x['t']][x['target']],axis=1)\n",
    "#     display(sourceTargetDf)\n",
    "\n",
    "    \n",
    "    # creating the sankey diagram\n",
    "    data = dict(\n",
    "        type='sankey',\n",
    "        arrangement = \"snap\",\n",
    "        orientation = 'h',\n",
    "        node = dict(\n",
    "          pad = 15,\n",
    "          thickness = 20,\n",
    "          line = dict(\n",
    "            color = \"black\",\n",
    "            width = 0.5\n",
    "          ),\n",
    "          label = [x[1] for x in labelList],\n",
    "          color = colorList,\n",
    "          x=nodified[0],\n",
    "          y=nodified[1]\n",
    "        ),\n",
    "        link = dict(\n",
    "          source = sourceTargetDf['sourceID'],\n",
    "          target = sourceTargetDf['targetID'],\n",
    "          value = sourceTargetDf['count'],\n",
    "          label = sourceTargetDf['label'],\n",
    "#           color = colorList\n",
    "        )\n",
    "      )\n",
    "    \n",
    "    layout =  dict(\n",
    "        title = title,\n",
    "        height = 772,\n",
    "        width = 950,\n",
    "        font = dict(\n",
    "          size = 12\n",
    "        )\n",
    "    )\n",
    "       \n",
    "# #     fig = dict(data=[data], layout=layout)\n",
    "    fig = go.Figure(data = [go.Sankey(data)], layout=layout)\n",
    "# #     fig.update_layout(title_text=\"Basic Sankey Diagram\", font_size=12)\n",
    "    return fig"
   ]
  },
  {
   "cell_type": "code",
   "execution_count": 2,
   "metadata": {},
   "outputs": [],
   "source": [
    "def nodify(node_names):\n",
    "#     node_names = unique_list\n",
    "    # uniqe name endings\n",
    "    ends = sorted(list(set([e[-1] for e in node_names])))\n",
    "    \n",
    "    # intervals\n",
    "    steps = 1.3/len(ends)\n",
    "\n",
    "    # x-values for each unique name ending\n",
    "    # for input as node position\n",
    "    nodes_x = {}\n",
    "    xVal = 0\n",
    "    for e in ends:\n",
    "        nodes_x[str(e)] = xVal\n",
    "        xVal += steps\n",
    "\n",
    "    # x and y values in list form\n",
    "    x_values = [nodes_x[n[-1]] for n in node_names]\n",
    "    y_values = [.1]*len(x_values)\n",
    "    \n",
    "    return x_values, y_values"
   ]
  }
 ],
 "metadata": {
  "kernelspec": {
   "display_name": "Python 3",
   "language": "python",
   "name": "python3"
  },
  "language_info": {
   "codemirror_mode": {
    "name": "ipython",
    "version": 3
   },
   "file_extension": ".py",
   "mimetype": "text/x-python",
   "name": "python",
   "nbconvert_exporter": "python",
   "pygments_lexer": "ipython3",
   "version": "3.7.1"
  }
 },
 "nbformat": 4,
 "nbformat_minor": 2
}
